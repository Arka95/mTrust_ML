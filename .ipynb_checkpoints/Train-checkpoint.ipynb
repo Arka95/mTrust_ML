{
 "cells": [
  {
   "cell_type": "code",
   "execution_count": 34,
   "metadata": {
    "collapsed": true
   },
   "outputs": [],
   "source": [
    "from keras.layers import Dense,Activation\n",
    "import pandas as pd\n",
    "from keras.models import Sequential"
   ]
  },
  {
   "cell_type": "code",
   "execution_count": 66,
   "metadata": {
    "collapsed": true
   },
   "outputs": [],
   "source": [
    "trustdb=pd.read_csv('train/trustdb_gaussian.csv')\n",
    "#train data with features frequenct, intimacy and recency (gaussian normalized i.e. (x-u)/sd)\n",
    "X=trustdb.drop(['TRUST',],axis=1).values\n",
    "#outputs\n",
    "Y=trustdb['TRUST'].values\n",
    "# Encode labels to hot vectors (ex : 2 -> [0,0,1,0,0,0,0,0,0,0])\n",
    "from keras.utils.np_utils import to_categorical\n",
    "Y = to_categorical(Y, num_classes = 4)"
   ]
  },
  {
   "cell_type": "code",
   "execution_count": 58,
   "metadata": {},
   "outputs": [
    {
     "name": "stdout",
     "output_type": "stream",
     "text": [
      "_________________________________________________________________\n",
      "Layer (type)                 Output Shape              Param #   \n",
      "=================================================================\n",
      "dense_49 (Dense)             (None, 3)                 12        \n",
      "_________________________________________________________________\n",
      "activation_17 (Activation)   (None, 3)                 0         \n",
      "_________________________________________________________________\n",
      "dense_50 (Dense)             (None, 5)                 20        \n",
      "_________________________________________________________________\n",
      "activation_18 (Activation)   (None, 5)                 0         \n",
      "_________________________________________________________________\n",
      "dense_51 (Dense)             (None, 4)                 24        \n",
      "_________________________________________________________________\n",
      "activation_19 (Activation)   (None, 4)                 0         \n",
      "=================================================================\n",
      "Total params: 56\n",
      "Trainable params: 56\n",
      "Non-trainable params: 0\n",
      "_________________________________________________________________\n",
      "Train on 8982 samples, validate on 4424 samples\n",
      "Epoch 1/10\n",
      "8982/8982 [==============================] - 4s 403us/step - loss: 0.2401 - acc: 0.9048 - val_loss: 0.3427 - val_acc: 0.8703\n",
      "Epoch 2/10\n",
      "8982/8982 [==============================] - 3s 318us/step - loss: 0.0776 - acc: 0.9725 - val_loss: 0.1518 - val_acc: 0.9979\n",
      "Epoch 3/10\n",
      "8982/8982 [==============================] - 3s 319us/step - loss: 0.0305 - acc: 0.9954 - val_loss: 0.0209 - val_acc: 0.9975\n",
      "Epoch 4/10\n",
      "8982/8982 [==============================] - 3s 318us/step - loss: 0.0197 - acc: 0.9958 - val_loss: 0.0128 - val_acc: 0.9977\n",
      "Epoch 5/10\n",
      "8982/8982 [==============================] - 3s 319us/step - loss: 0.0174 - acc: 0.9956 - val_loss: 0.0111 - val_acc: 0.9978\n",
      "Epoch 6/10\n",
      "8982/8982 [==============================] - 3s 317us/step - loss: 0.0160 - acc: 0.9960 - val_loss: 0.0102 - val_acc: 0.9977\n",
      "Epoch 7/10\n",
      "8982/8982 [==============================] - 3s 319us/step - loss: 0.0153 - acc: 0.9960 - val_loss: 0.0100 - val_acc: 0.9979\n",
      "Epoch 8/10\n",
      "8982/8982 [==============================] - 3s 317us/step - loss: 0.0146 - acc: 0.9958 - val_loss: 0.0093 - val_acc: 0.9979\n",
      "Epoch 9/10\n",
      "8982/8982 [==============================] - 3s 320us/step - loss: 0.0140 - acc: 0.9959 - val_loss: 0.0100 - val_acc: 0.9979\n",
      "Epoch 10/10\n",
      "8982/8982 [==============================] - 3s 325us/step - loss: 0.0137 - acc: 0.9965 - val_loss: 0.0095 - val_acc: 0.9979\n"
     ]
    },
    {
     "data": {
      "text/plain": [
       "<keras.callbacks.History at 0x295a48eb5c0>"
      ]
     },
     "execution_count": 58,
     "metadata": {},
     "output_type": "execute_result"
    }
   ],
   "source": [
    "#defining our 2 hidden layer perceptron\n",
    "model= Sequential()\n",
    "model.add(Dense(3,input_dim=3))\n",
    "model.add(Activation('relu'))\n",
    "model.add(Dense(5))\n",
    "model.add(Activation('relu'))\n",
    "model.add(Dense(4))\n",
    "model.add(Activation('softmax'))\n",
    "model.compile(loss='binary_crossentropy', optimizer='adam', metrics=['accuracy'])\n",
    "#model.compile(optimizer='rmsprop',loss='categorical_crossentropy',metrics=['accuracy'])\n",
    "model.summary()\n",
    "#should get 99.88 % accuracy\n",
    "model.fit(X, Y, validation_split=0.33, epochs=10, batch_size=10,shuffle=True)"
   ]
  },
  {
   "cell_type": "code",
   "execution_count": 43,
   "metadata": {
    "collapsed": true
   },
   "outputs": [],
   "source": [
    "#saves our model for 4 class trust\n",
    "model.save('models/trust_4class_mlp.h5')"
   ]
  },
  {
   "cell_type": "code",
   "execution_count": 81,
   "metadata": {},
   "outputs": [
    {
     "data": {
      "text/plain": [
       "7"
      ]
     },
     "execution_count": 81,
     "metadata": {},
     "output_type": "execute_result"
    }
   ],
   "source": [
    "#loads our model for 4 class trust\n",
    "from keras.models import load_model\n",
    "model = load_model('models/trust_4class_mlp.h5')\n",
    "#since the values are one hot encoded, taking argmax indicates the index value of the class it belongs to\n",
    "#also we have to reshape the array since the first parameter is unspecified\n",
    "np.argmax(model.predict(X[7760].reshape(1,3)))"
   ]
  },
  {
   "cell_type": "code",
   "execution_count": 4,
   "metadata": {},
   "outputs": [
    {
     "name": "stdout",
     "output_type": "stream",
     "text": [
      "output nodes names are:  ['output_node0']\n",
      "INFO:tensorflow:Froze 6 variables.\n",
      "INFO:tensorflow:Converted 6 variables to const ops.\n",
      "saved the constant graph (ready for inference) at:  tensorflow_model/trust_4class_mlp.pb\n"
     ]
    }
   ],
   "source": [
    "import os\n",
    "import tensorflow as tf\n",
    "from tensorflow.python.framework import graph_util\n",
    "from tensorflow.python.framework import graph_io\n",
    "from keras.models import load_model\n",
    "from keras import backend as K\n",
    "import os.path as osp\n",
    "\n",
    "saved_model_path='models/trust_4class_mlp'\n",
    "path_to_model='models/trust_4class_mlp.h5'\n",
    "model = load_model(path_to_model)\n",
    "nb_classes = 1 # The number of output nodes in the model\n",
    "prefix_output_node_names_of_final_network = 'output_node'\n",
    "\n",
    "K.set_learning_phase(0)\n",
    "\n",
    "pred = [None]*nb_classes\n",
    "pred_node_names = [None]*nb_classes\n",
    "for i in range(nb_classes):\n",
    "    pred_node_names[i] = prefix_output_node_names_of_final_network+str(i)\n",
    "    pred[i] = tf.identity(model.output[i], name=pred_node_names[i])\n",
    "print('output nodes names are: ', pred_node_names)\n",
    "\n",
    "sess = K.get_session()\n",
    "output_fld = 'export_tf /'\n",
    "if not os.path.isdir(output_fld):\n",
    "    os.mkdir(output_fld)\n",
    "output_graph_name = saved_model_path + '.pb'\n",
    "output_graph_suffix = '_inference'\n",
    "\n",
    "constant_graph = graph_util.convert_variables_to_constants(sess, sess.graph.as_graph_def(), pred_node_names)\n",
    "graph_io.write_graph(constant_graph, output_fld, output_graph_name, as_text=False)\n",
    "print('saved the constant graph (ready for inference) at: ', osp.join(output_fld, output_graph_name))\n"
   ]
  },
  {
   "cell_type": "code",
   "execution_count": 5,
   "metadata": {},
   "outputs": [
    {
     "name": "stdout",
     "output_type": "stream",
     "text": [
      "\n",
      "tensorflow_model/trust_4class_mlp.pb\n",
      "=======================INPUT=========================\n",
      "[name: \"dense_46_input_1\"\n",
      "op: \"Placeholder\"\n",
      "attr {\n",
      "  key: \"dtype\"\n",
      "  value {\n",
      "    type: DT_FLOAT\n",
      "  }\n",
      "}\n",
      "attr {\n",
      "  key: \"shape\"\n",
      "  value {\n",
      "    shape {\n",
      "      dim {\n",
      "        size: -1\n",
      "      }\n",
      "      dim {\n",
      "        size: 3\n",
      "      }\n",
      "    }\n",
      "  }\n",
      "}\n",
      "]\n",
      "=======================OUTPUT========================\n",
      "[name: \"output_node0\"\n",
      "op: \"Identity\"\n",
      "input: \"strided_slice\"\n",
      "attr {\n",
      "  key: \"T\"\n",
      "  value {\n",
      "    type: DT_FLOAT\n",
      "  }\n",
      "}\n",
      "]\n",
      "===================KERAS_LEARNING=====================\n",
      "[]\n",
      "======================================================\n",
      "\n"
     ]
    }
   ],
   "source": [
    "def print_graph_nodes(filename):\n",
    "    import tensorflow as tf\n",
    "    g = tf.GraphDef()\n",
    "    g.ParseFromString(open(filename, 'rb').read())\n",
    "    print()\n",
    "    print(filename)\n",
    "    print(\"=======================INPUT=========================\")\n",
    "    print([n for n in g.node if n.name.find('input') != -1])\n",
    "    print(\"=======================OUTPUT========================\")\n",
    "    print([n for n in g.node if n.name.find('output') != -1])\n",
    "    print(\"===================KERAS_LEARNING=====================\")\n",
    "    print([n for n in g.node if n.name.find('keras_learning_phase') != -1])\n",
    "    print(\"======================================================\")\n",
    "    print()\n",
    "print_graph_nodes('export_tf /trust_4class_mlp.pb')"
   ]
  },
  {
   "cell_type": "code",
   "execution_count": null,
   "metadata": {
    "collapsed": true
   },
   "outputs": [],
   "source": []
  }
 ],
 "metadata": {
  "kernelspec": {
   "display_name": "Python 3",
   "language": "python",
   "name": "python3"
  },
  "language_info": {
   "codemirror_mode": {
    "name": "ipython",
    "version": 3
   },
   "file_extension": ".py",
   "mimetype": "text/x-python",
   "name": "python",
   "nbconvert_exporter": "python",
   "pygments_lexer": "ipython3",
   "version": "3.6.8"
  }
 },
 "nbformat": 4,
 "nbformat_minor": 2
}
