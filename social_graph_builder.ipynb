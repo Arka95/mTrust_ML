{
 "cells": [
  {
   "cell_type": "code",
   "execution_count": 25,
   "metadata": {
    "collapsed": true,
    "scrolled": true
   },
   "outputs": [],
   "source": [
    "#this program will generate a graph for people who have contacted eachother, based ont he calls\n",
    "#incalls means inward edge # outcall means outgoing edge\n",
    "#edges will be constructed iff there has been at least 1 interaction between two users\n",
    "#sql to filter relevant stuff only\n",
    "\n",
    "import pandas as pd\n",
    "import numpy as np\n",
    "import pandasql as pdsql\n",
    "pysql = lambda q: pdsql.sqldf(q, globals())\n",
    "\n",
    "call_log=pd.read_csv('generated/call_log.csv')\n",
    "in_filter=\"select DISTINCT CALLING_NO, CALLED_NO from call_log where DIRECTION='IN' AND DURATION> 1;\"\n",
    "in_edges=pysql(in_filter)\n",
    "out_filter=\"select DISTINCT CALLING_NO, CALLED_NO from call_log where DIRECTION='OUT' AND DURATION> 1;\"\n",
    "out_edges=pysql(out_filter)"
   ]
  },
  {
   "cell_type": "code",
   "execution_count": 34,
   "metadata": {
    "collapsed": true
   },
   "outputs": [],
   "source": [
    "insets=set(in_edges['CALLING_NO']+in_edges['CALLED_NO'])\n",
    "ins=len(in_edges)\n",
    "outs=len(out_edges)\n",
    "str=\"\"\n",
    "for i in range(0,ins):\n",
    "    str+=in_edges.loc[i]['CALLING_NO']+' '+in_edges.loc[i]['CALLED_NO']+\"\\n\"\n",
    "for i in range(0,outs):\n",
    "    #hashindex to check for presence of edge in current set\n",
    "    hashers=out_edges.loc[i]['CALLING_NO']+out_edges.loc[i]['CALLED_NO']\n",
    "    if hashers not in insets:\n",
    "        #only new entries are added to the graph\n",
    "        insets.add(hashers)\n",
    "        str+=out_edges.loc[i]['CALLING_NO']+' '+out_edges.loc[i]['CALLED_NO']+\"\\n\"\n",
    "str\n",
    "file = open('social_graph.txt','w') \n",
    "file.write(str)\n",
    "#----------------------graph is ready----------------\n",
    "file.close()"
   ]
  },
  {
   "cell_type": "code",
   "execution_count": 41,
   "metadata": {},
   "outputs": [
    {
     "name": "stdout",
     "output_type": "stream",
     "text": [
      "Number of Nodes = 6538\n",
      "Number of Edges = 8493\n"
     ]
    },
    {
     "data": {
      "text/plain": [
       "<module 'matplotlib.pyplot' from 'C:\\\\Users\\\\ARKA BHOWMIK\\\\Anaconda3\\\\lib\\\\site-packages\\\\matplotlib\\\\pyplot.py'>"
      ]
     },
     "execution_count": 41,
     "metadata": {},
     "output_type": "execute_result"
    }
   ],
   "source": [
    "import networkx as nx\n",
    "import matplotlib.pyplot as plt\n",
    "def createGraph():\n",
    "    g=nx.DiGraph()\n",
    "    file=open('social_graph.txt',newline='\\n')\n",
    "    #creating a graph from the relationship given in the condmat file\n",
    "    for word in file:\n",
    "        data=word.split()\n",
    "        u=data[0]\n",
    "        v=data[1]\n",
    "        g.add_edge(u,v)    \n",
    "     #total no of nodes and edges formed in the network\n",
    "    g.remove_edges_from(g.selfloop_edges())\n",
    "    print(\"Number of Nodes =\" ,g.number_of_nodes())  \n",
    "    print(\"Number of Edges =\" ,g.number_of_edges())    \n",
    "    return g\n",
    "def file_graph_show( g,i ):\n",
    "    plt.figure(i)\n",
    "    sp=nx.spring_layout(g)\n",
    "    plt.axis('off')\n",
    "    nx.draw_networkx(g,node_color='pink',pos=sp,with_labels=False,node_size=100)\n",
    "    plt.savefig('graph.png')\n",
    "    return plt\n",
    "\n",
    "g=createGraph()\n",
    "file_graph_show(g,1)"
   ]
  },
  {
   "cell_type": "code",
   "execution_count": null,
   "metadata": {
    "collapsed": true
   },
   "outputs": [],
   "source": []
  }
 ],
 "metadata": {
  "kernelspec": {
   "display_name": "Python 3",
   "language": "python",
   "name": "python3"
  },
  "language_info": {
   "codemirror_mode": {
    "name": "ipython",
    "version": 3
   },
   "file_extension": ".py",
   "mimetype": "text/x-python",
   "name": "python",
   "nbconvert_exporter": "python",
   "pygments_lexer": "ipython3",
   "version": "3.6.8"
  }
 },
 "nbformat": 4,
 "nbformat_minor": 2
}
